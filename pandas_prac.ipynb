{
 "cells": [
  {
   "cell_type": "code",
   "execution_count": 23,
   "metadata": {},
   "outputs": [],
   "source": [
    "import pandas as pd\n",
    "import numpy as np\n",
    "import matplotlib.pyplot as plt\n",
    "import seaborn as sns\n",
    "import pandasql as psql"
   ]
  },
  {
   "cell_type": "code",
   "execution_count": 1,
   "metadata": {},
   "outputs": [],
   "source": [
    "# dataset for practise \n",
    "data = {\n",
    "    'EmployeeID' : [1,2,3,4,5],\n",
    "    'Department' : ['HR','Finance','IT','HR','It'],\n",
    "    'Salary': [50000, 60000, 75000, 52000, 70000],\n",
    "    'HireDate': ['2020-01-15', '2019-11-11', '2018-07-23', '2021-03-01', '2020-09-01'],\n",
    "    'PerformanceScore': [3.5, 4.2, 3.8, 4.0, 3.9]\n",
    "}"
   ]
  },
  {
   "cell_type": "code",
   "execution_count": 5,
   "metadata": {},
   "outputs": [
    {
     "name": "stdout",
     "output_type": "stream",
     "text": [
      "   EmployeeID Department  Salary    HireDate  PerformanceScore\n",
      "0           1         HR   50000  2020-01-15               3.5\n",
      "1           2    Finance   60000  2019-11-11               4.2\n",
      "2           3         IT   75000  2018-07-23               3.8\n",
      "3           4         HR   52000  2021-03-01               4.0\n",
      "4           5         It   70000  2020-09-01               3.9\n"
     ]
    }
   ],
   "source": [
    "df = pd.DataFrame(data)\n",
    "print(df)"
   ]
  },
  {
   "cell_type": "code",
   "execution_count": 6,
   "metadata": {},
   "outputs": [
    {
     "name": "stdout",
     "output_type": "stream",
     "text": [
      "<class 'pandas.core.frame.DataFrame'>\n",
      "RangeIndex: 5 entries, 0 to 4\n",
      "Data columns (total 5 columns):\n",
      " #   Column            Non-Null Count  Dtype  \n",
      "---  ------            --------------  -----  \n",
      " 0   EmployeeID        5 non-null      int64  \n",
      " 1   Department        5 non-null      object \n",
      " 2   Salary            5 non-null      int64  \n",
      " 3   HireDate          5 non-null      object \n",
      " 4   PerformanceScore  5 non-null      float64\n",
      "dtypes: float64(1), int64(2), object(2)\n",
      "memory usage: 332.0+ bytes\n"
     ]
    }
   ],
   "source": [
    "# =============================\n",
    "# 1. Data Exploration\n",
    "# =============================\n",
    "df.info()"
   ]
  },
  {
   "cell_type": "code",
   "execution_count": 7,
   "metadata": {},
   "outputs": [
    {
     "data": {
      "text/html": [
       "<div>\n",
       "<style scoped>\n",
       "    .dataframe tbody tr th:only-of-type {\n",
       "        vertical-align: middle;\n",
       "    }\n",
       "\n",
       "    .dataframe tbody tr th {\n",
       "        vertical-align: top;\n",
       "    }\n",
       "\n",
       "    .dataframe thead th {\n",
       "        text-align: right;\n",
       "    }\n",
       "</style>\n",
       "<table border=\"1\" class=\"dataframe\">\n",
       "  <thead>\n",
       "    <tr style=\"text-align: right;\">\n",
       "      <th></th>\n",
       "      <th>EmployeeID</th>\n",
       "      <th>Department</th>\n",
       "      <th>Salary</th>\n",
       "      <th>HireDate</th>\n",
       "      <th>PerformanceScore</th>\n",
       "    </tr>\n",
       "  </thead>\n",
       "  <tbody>\n",
       "    <tr>\n",
       "      <th>0</th>\n",
       "      <td>1</td>\n",
       "      <td>HR</td>\n",
       "      <td>50000</td>\n",
       "      <td>2020-01-15</td>\n",
       "      <td>3.5</td>\n",
       "    </tr>\n",
       "    <tr>\n",
       "      <th>1</th>\n",
       "      <td>2</td>\n",
       "      <td>Finance</td>\n",
       "      <td>60000</td>\n",
       "      <td>2019-11-11</td>\n",
       "      <td>4.2</td>\n",
       "    </tr>\n",
       "    <tr>\n",
       "      <th>2</th>\n",
       "      <td>3</td>\n",
       "      <td>IT</td>\n",
       "      <td>75000</td>\n",
       "      <td>2018-07-23</td>\n",
       "      <td>3.8</td>\n",
       "    </tr>\n",
       "    <tr>\n",
       "      <th>3</th>\n",
       "      <td>4</td>\n",
       "      <td>HR</td>\n",
       "      <td>52000</td>\n",
       "      <td>2021-03-01</td>\n",
       "      <td>4.0</td>\n",
       "    </tr>\n",
       "    <tr>\n",
       "      <th>4</th>\n",
       "      <td>5</td>\n",
       "      <td>It</td>\n",
       "      <td>70000</td>\n",
       "      <td>2020-09-01</td>\n",
       "      <td>3.9</td>\n",
       "    </tr>\n",
       "  </tbody>\n",
       "</table>\n",
       "</div>"
      ],
      "text/plain": [
       "   EmployeeID Department  Salary    HireDate  PerformanceScore\n",
       "0           1         HR   50000  2020-01-15               3.5\n",
       "1           2    Finance   60000  2019-11-11               4.2\n",
       "2           3         IT   75000  2018-07-23               3.8\n",
       "3           4         HR   52000  2021-03-01               4.0\n",
       "4           5         It   70000  2020-09-01               3.9"
      ]
     },
     "execution_count": 7,
     "metadata": {},
     "output_type": "execute_result"
    }
   ],
   "source": [
    "df.head()"
   ]
  },
  {
   "cell_type": "code",
   "execution_count": 11,
   "metadata": {},
   "outputs": [
    {
     "name": "stdout",
     "output_type": "stream",
     "text": [
      "\n",
      "# Convert HireDate to datetime\n",
      "EmployeeID                   int64\n",
      "Department                  object\n",
      "Salary                       int64\n",
      "HireDate            datetime64[ns]\n",
      "PerformanceScore           float64\n",
      "dtype: object\n"
     ]
    }
   ],
   "source": [
    "# =============================\n",
    "# 2. Data Cleaning\n",
    "# =============================\n",
    "\n",
    "print(\"\\n# Convert HireDate to datetime\")\n",
    "\n",
    "df['HireDate'] = pd.to_datetime(df['HireDate'])\n",
    "print(df.dtypes)\n"
   ]
  },
  {
   "cell_type": "code",
   "execution_count": 14,
   "metadata": {},
   "outputs": [
    {
     "name": "stdout",
     "output_type": "stream",
     "text": [
      "Department\n",
      "Finance    60000.0\n",
      "HR         51000.0\n",
      "IT         75000.0\n",
      "It         70000.0\n",
      "Name: Salary, dtype: float64\n"
     ]
    }
   ],
   "source": [
    "\n",
    "# =============================\n",
    "# 3. Exploratory Data Analysis (EDA)\n",
    "# =============================\n",
    "\n",
    "# Average salary by department\n",
    "avg = df.groupby('Department')['Salary'].mean()\n",
    "print(avg)"
   ]
  },
  {
   "cell_type": "code",
   "execution_count": 15,
   "metadata": {},
   "outputs": [
    {
     "name": "stdout",
     "output_type": "stream",
     "text": [
      "   EmployeeID Department  Salary   HireDate  PerformanceScore\n",
      "0           1         HR   50000 2020-01-15               3.5\n",
      "3           4         HR   52000 2021-03-01               4.0\n",
      "4           5         It   70000 2020-09-01               3.9\n"
     ]
    }
   ],
   "source": [
    "# Employees hired after 2020-01-01\n",
    "\n",
    "recent_hires = df[df['HireDate'] > '2020-01-01']\n",
    "print(recent_hires)"
   ]
  },
  {
   "cell_type": "code",
   "execution_count": 17,
   "metadata": {},
   "outputs": [
    {
     "name": "stdout",
     "output_type": "stream",
     "text": [
      "   EmployeeID Department  Salary   HireDate  PerformanceScore  HireYear\n",
      "0           1         HR   50000 2020-01-15               3.5      2020\n",
      "1           2    Finance   60000 2019-11-11               4.2      2019\n",
      "2           3         IT   75000 2018-07-23               3.8      2018\n",
      "3           4         HR   52000 2021-03-01               4.0      2021\n",
      "4           5         It   70000 2020-09-01               3.9      2020\n"
     ]
    }
   ],
   "source": [
    "# Add a HireYear column\n",
    "df['HireYear']  = df['HireDate'].dt.year\n",
    "print(df)"
   ]
  },
  {
   "cell_type": "code",
   "execution_count": 19,
   "metadata": {},
   "outputs": [
    {
     "name": "stderr",
     "output_type": "stream",
     "text": [
      "/var/folders/dh/7tkb0wrj5hv7prffvgw42dmw0000gn/T/ipykernel_32883/316668689.py:6: FutureWarning: \n",
      "\n",
      "Passing `palette` without assigning `hue` is deprecated and will be removed in v0.14.0. Assign the `x` variable to `hue` and set `legend=False` for the same effect.\n",
      "\n",
      "  sns.barplot(x = 'Department' , y = 'Salary', data = df , palette='viridis')\n"
     ]
    },
    {
     "data": {
      "image/png": "[encoded data removed]",
      "text/plain": [
       "<Figure size 800x600 with 1 Axes>"
      ]
     },
     "metadata": {},
     "output_type": "display_data"
    }
   ],
   "source": [
    "# =============================\n",
    "# 4. Data Visualization\n",
    "# =============================\n",
    "\n",
    "plt.figure(figsize=(8,6))\n",
    "sns.barplot(x = 'Department' , y = 'Salary', data = df , palette='viridis')\n",
    "plt.title('avergae salary')\n",
    "plt.show()\n"
   ]
  },
  {
   "cell_type": "code",
   "execution_count": 20,
   "metadata": {},
   "outputs": [
    {
     "data": {
      "image/png": "[encoded data removed]",
      "text/plain": [
       "<Figure size 800x600 with 1 Axes>"
      ]
     },
     "metadata": {},
     "output_type": "display_data"
    }
   ],
   "source": [
    "plt.figure(figsize=(8,6))\n",
    "sns.histplot(df['PerformanceScore'],kde = True, color='Blue', bins = 5)\n",
    "plt.show()"
   ]
  },
  {
   "cell_type": "code",
   "execution_count": 21,
   "metadata": {},
   "outputs": [
    {
     "name": "stdout",
     "output_type": "stream",
     "text": [
      "   EmployeeID Department  Salary   HireDate  PerformanceScore  HireYear\n",
      "1           2    Finance   60000 2019-11-11               4.2      2019\n",
      "3           4         HR   52000 2021-03-01               4.0      2021\n",
      "4           5         It   70000 2020-09-01               3.9      2020\n"
     ]
    }
   ],
   "source": [
    "# =============================\n",
    "# 5. Advanced Analysis\n",
    "# =============================\n",
    "\n",
    "# Identify departments with above-average performance\n",
    "\n",
    "mean_perf = df['PerformanceScore'].mean()\n",
    "print(df[df['PerformanceScore'] > mean_perf])"
   ]
  },
  {
   "cell_type": "code",
   "execution_count": 28,
   "metadata": {},
   "outputs": [
    {
     "name": "stdout",
     "output_type": "stream",
     "text": [
      "   EmployeeID  Salary\n",
      "0           3   75000\n"
     ]
    }
   ],
   "source": [
    "# Question 1: Find the highest-paid employee.\n",
    "\n",
    "query = \"select  employeeid,salary from df where salary = (select max(salary) from df)\"\n",
    "print(psql.sqldf(query,locals()))"
   ]
  },
  {
   "cell_type": "code",
   "execution_count": 29,
   "metadata": {},
   "outputs": [
    {
     "name": "stdout",
     "output_type": "stream",
     "text": [
      "\n",
      "# Employee count by department\n",
      "Department\n",
      "HR         2\n",
      "Finance    1\n",
      "IT         1\n",
      "It         1\n",
      "Name: count, dtype: int64\n"
     ]
    }
   ],
   "source": [
    "# Question 2: Count employees in each department.\n",
    "employee_count = df['Department'].value_counts()\n",
    "print(\"\\n# Employee count by department\")\n",
    "print(employee_count)\n",
    "\n"
   ]
  },
  {
   "cell_type": "code",
   "execution_count": 30,
   "metadata": {},
   "outputs": [
    {
     "name": "stdout",
     "output_type": "stream",
     "text": [
      "\n",
      "# Correlation between Salary and Performance Score\n",
      "0.16236485211462048\n"
     ]
    }
   ],
   "source": [
    "# Question 3: Calculate the correlation between Salary and Performance Score.\n",
    "correlation = df['Salary'].corr(df['PerformanceScore'])\n",
    "print(\"\\n# Correlation between Salary and Performance Score\")\n",
    "print(correlation)"
   ]
  }
 ],
 "metadata": {
  "kernelspec": {
   "display_name": "Python 3",
   "language": "python",
   "name": "python3"
  },
  "language_info": {
   "codemirror_mode": {
    "name": "ipython",
    "version": 3
   },
   "file_extension": ".py",
   "mimetype": "text/x-python",
   "name": "python",
   "nbconvert_exporter": "python",
   "pygments_lexer": "ipython3",
   "version": "3.12.2"
  }
 },
 "nbformat": 4,
 "nbformat_minor": 2
}
